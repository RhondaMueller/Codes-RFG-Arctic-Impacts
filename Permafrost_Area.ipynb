{
 "cells": [
  {
   "cell_type": "code",
   "execution_count": 1,
   "id": "6d363845",
   "metadata": {},
   "outputs": [],
   "source": [
    "import numpy as np\n",
    "import iris\n",
    "import matplotlib.pyplot as plt\n",
    "import matplotlib.cm as mpl_cm\n",
    "import matplotlib\n",
    "import matplotlib.ticker as ticker \n",
    "from matplotlib import cm\n",
    "from matplotlib.colors import ListedColormap\n",
    "\n",
    "from pyproj import Proj\n",
    "from shapely.geometry import shape\n",
    "\n",
    "import warnings\n",
    "warnings.filterwarnings(\"ignore\") ## To ignore UserWarning about collapsing a non-contagious variable"
   ]
  },
  {
   "cell_type": "code",
   "execution_count": 2,
   "id": "8afbfe3a",
   "metadata": {},
   "outputs": [],
   "source": [
    "def CheckForLess(list1, val):\n",
    " \n",
    "    # traverse in the list\n",
    "    for x in list1:\n",
    " \n",
    "        # compare with all the\n",
    "        # values with value\n",
    "        if val <= x:\n",
    "            return False\n",
    "    return True"
   ]
  },
  {
   "cell_type": "code",
   "execution_count": 3,
   "id": "93d04928",
   "metadata": {},
   "outputs": [],
   "source": [
    "def getArea(coords):\n",
    "    c = {\"type\": \"Polygon\",\n",
    "    \"coordinates\": [[ (coords[3], coords[1]), (coords[3], coords[0]),\n",
    "                      (coords[2], coords[0]), (coords[2], coords[1]) ]]}\n",
    "    lon, lat = zip(*c['coordinates'][0])\n",
    "    random_string = \"+proj=aea +lat_1=\" + str(coords[0]) + \" +lat_2=\" + str(coords[1]) + \" +lon_0=\" + str((coords[2]+coords[3])/2) ##+ \" +lat_0=\" + str((coords[0]+coords[1])/2) \n",
    "    pro = Proj(random_string)\n",
    "    x, y = pro(lon, lat)\n",
    "    poly = {\"type\": \"Polygon\", \"coordinates\": [zip(x, y)]}\n",
    "    return shape(poly).area"
   ]
  },
  {
   "cell_type": "code",
   "execution_count": 4,
   "id": "c859a81a",
   "metadata": {},
   "outputs": [],
   "source": [
    "path = r\"E:\\Datasets_Geoengineering\\RCP45_variables/\"\n",
    "\n",
    "T_mean_RCP= iris.load(path + \"TSA_RCP45.all.nc\")[0][:,82:,:]\n",
    "T_mean_RCP_data= iris.load(path + \"TSA_RCP45.all.nc\")[0][:,82:,:].data\n",
    "TNn_RCP = iris.load(path + \"TREFMNAV_RCP45.all.nc\")[0][:,82:,:]\n",
    "\n",
    "Tmean_SAI_01 = iris.load(r\"E:\\Datasets_Geoengineering\\JS_files_new_sel_var\\TS_01_sel_var_SAI_cam.all.nc\")[0][(-21)*12:,82:,:]\n",
    "Tmean_SAI_02 = iris.load(r\"E:\\Datasets_Geoengineering\\JS_files_new_sel_var\\TS_02_sel_var_SAI_cam.all.nc\")[0][(-21)*12:,82:,:]\n",
    "Tmean_SAI_03 = iris.load(r\"E:\\Datasets_Geoengineering\\JS_files_new_sel_var\\TS_03_sel_var_SAI_cam.all.nc\")[0][(-21)*12:,82:,:]\n",
    "\n",
    "Tmean_SAI_01_data = iris.load(r\"E:\\Datasets_Geoengineering\\JS_files_new_sel_var\\TS_01_sel_var_SAI_cam.all.nc\")[0][(-21)*12:,82:,:].data\n",
    "Tmean_SAI_02_data = iris.load(r\"E:\\Datasets_Geoengineering\\JS_files_new_sel_var\\TS_02_sel_var_SAI_cam.all.nc\")[0][(-21)*12:,82:,:].data\n",
    "Tmean_SAI_03_data = iris.load(r\"E:\\Datasets_Geoengineering\\JS_files_new_sel_var\\TS_03_sel_var_SAI_cam.all.nc\")[0][(-21)*12:,82:,:].data\n",
    "\n",
    "TNn_SAI_01_data = iris.load(r\"E:\\Datasets_Geoengineering\\JS_files_new_sel_var\\TREFMNAV_01_sel_var_SAI.all.nc\")[0][(-21)*12:,82:,:].data\n",
    "TNn_SAI_02_data = iris.load(r\"E:\\Datasets_Geoengineering\\JS_files_new_sel_var\\TREFMNAV_02_sel_var_SAI.all.nc\")[0][(-21)*12:,82:,:].data\n",
    "TNn_SAI_03_data = iris.load(r\"E:\\Datasets_Geoengineering\\JS_files_new_sel_var\\TREFMNAV_03_sel_var_SAI.all.nc\")[0][(-21)*12:,82:,:].data\n",
    "\n",
    "landmask = iris.load(path + \"TSA_RCP45.all.nc\")[0][:,82:,:]"
   ]
  },
  {
   "cell_type": "code",
   "execution_count": 5,
   "id": "c3f28f8f",
   "metadata": {},
   "outputs": [
    {
     "data": {
      "text/plain": [
       "252"
      ]
     },
     "execution_count": 5,
     "metadata": {},
     "output_type": "execute_result"
    }
   ],
   "source": [
    "len(TNn_SAI_01_data)"
   ]
  },
  {
   "cell_type": "code",
   "execution_count": 6,
   "id": "ec53c4f0",
   "metadata": {},
   "outputs": [],
   "source": [
    "def Perm_area(variable, variable_data):\n",
    "    time = 0\n",
    "    area_list = []\n",
    "    TNn_list = []\n",
    "\n",
    "\n",
    "    while time in range(0,len(variable_data)-2*12):\n",
    "        area_tot = 0\n",
    "        for lat in range(0,14):\n",
    "            for lon in range(0,144):\n",
    "                T_mean = []\n",
    "                if landmask.data.mask[0,lat,lon] == False:\n",
    "                    for i in range(0,24):\n",
    "                        T_mean.append(variable_data[time+i,lat,lon])\n",
    "                        #Tmean of 2 years needs to be continuously below zero\n",
    "                    if CheckForLess(T_mean, 273.15) == True:\n",
    "                        coords = []\n",
    "                        coords.append(variable[0,lat:lat+2,lon:lon+2].coord(\"latitude\").points[0])\n",
    "                        coords.append(variable[0,lat:lat+2,lon:lon+2].coord(\"latitude\").points[1])\n",
    "                        coords.append(variable[0,lat:lat+2,lon:lon+2].coord(\"longitude\").points[0])\n",
    "                        coords.append(variable[0,lat:lat+2,lon:lon+2].coord(\"longitude\").points[1])\n",
    "                        area = getArea(coords) / 1000 / 1000 # in km2\n",
    "                        area_tot = area_tot + area\n",
    "\n",
    "        area_list.append(area_tot)\n",
    "        time = time + 12\n",
    "    \n",
    "    return(area_list)\n"
   ]
  },
  {
   "cell_type": "code",
   "execution_count": 7,
   "id": "d980fd1c",
   "metadata": {},
   "outputs": [],
   "source": [
    "RCP_area = Perm_area(T_mean_RCP, T_mean_RCP_data)\n",
    "SAI1_area = (Perm_area(Tmean_SAI_01, Tmean_SAI_01_data))\n",
    "SAI2_area =Perm_area(Tmean_SAI_02, Tmean_SAI_02_data) \n",
    "SAI3_area =Perm_area(Tmean_SAI_03, Tmean_SAI_03_data) "
   ]
  },
  {
   "cell_type": "code",
   "execution_count": 8,
   "id": "0749533b",
   "metadata": {},
   "outputs": [],
   "source": [
    "RCP_area_mean = np.mean(RCP_area[-21*12-2*12:])\n",
    "SAI1_area_mean = np.mean(SAI1_area[-21*12-2*12:])\n",
    "SAI2_area_mean = np.mean(SAI2_area[-21*12-2*12:])\n",
    "SAI3_area_mean = np.mean(SAI3_area[-21*12-2*12:])"
   ]
  },
  {
   "cell_type": "code",
   "execution_count": 9,
   "id": "14f78e78",
   "metadata": {
    "scrolled": true
   },
   "outputs": [
    {
     "name": "stdout",
     "output_type": "stream",
     "text": [
      "RCP permafrost area: 2120064.310563616\n",
      "SAI permafrost area: 1955148.8991622524\n"
     ]
    }
   ],
   "source": [
    "print(\"RCP permafrost area:\", RCP_area_mean)\n",
    "print(\"SAI permafrost area:\", (SAI1_area_mean + SAI2_area_mean + SAI3_area_mean)/3)"
   ]
  },
  {
   "cell_type": "code",
   "execution_count": 11,
   "id": "83790066",
   "metadata": {
    "scrolled": true
   },
   "outputs": [
    {
     "name": "stdout",
     "output_type": "stream",
     "text": [
      "percentage smaller: 7.77879286867109\n"
     ]
    }
   ],
   "source": [
    "SAI_area = (SAI1_area_mean + SAI2_area_mean + SAI3_area_mean)/3\n",
    "print(\"percentage smaller:\", 100 - SAI_area / RCP_area_mean * 100)"
   ]
  }
 ],
 "metadata": {
  "kernelspec": {
   "display_name": "Python 3 (ipykernel)",
   "language": "python",
   "name": "python3"
  },
  "language_info": {
   "codemirror_mode": {
    "name": "ipython",
    "version": 3
   },
   "file_extension": ".py",
   "mimetype": "text/x-python",
   "name": "python",
   "nbconvert_exporter": "python",
   "pygments_lexer": "ipython3",
   "version": "3.9.7"
  }
 },
 "nbformat": 4,
 "nbformat_minor": 5
}
