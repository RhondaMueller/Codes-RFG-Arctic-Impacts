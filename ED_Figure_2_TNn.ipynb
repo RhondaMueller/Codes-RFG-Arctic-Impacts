{
 "cells": [
  {
   "cell_type": "markdown",
   "id": "32d4c773",
   "metadata": {},
   "source": [
    "The code is currently for the region >50°N, to change it to >65°N, 74:96 needs to be adjusted to 82:96."
   ]
  },
  {
   "cell_type": "code",
   "execution_count": 5,
   "id": "568a6ccf",
   "metadata": {
    "scrolled": true
   },
   "outputs": [
    {
     "name": "stderr",
     "output_type": "stream",
     "text": [
      "C:\\Users\\rhonda\\anaconda3\\envs\\py3k\\lib\\site-packages\\iris\\coords.py:1982: UserWarning: Collapsing a non-contiguous coordinate. Metadata may not be fully descriptive for 'latitude'.\n",
      "  warnings.warn(msg.format(self.name()))\n",
      "C:\\Users\\rhonda\\anaconda3\\envs\\py3k\\lib\\site-packages\\iris\\coords.py:1982: UserWarning: Collapsing a non-contiguous coordinate. Metadata may not be fully descriptive for 'longitude'.\n",
      "  warnings.warn(msg.format(self.name()))\n",
      "C:\\Users\\rhonda\\anaconda3\\envs\\py3k\\lib\\site-packages\\iris\\coords.py:1982: UserWarning: Collapsing a non-contiguous coordinate. Metadata may not be fully descriptive for 'latitude'.\n",
      "  warnings.warn(msg.format(self.name()))\n",
      "C:\\Users\\rhonda\\anaconda3\\envs\\py3k\\lib\\site-packages\\iris\\coords.py:1982: UserWarning: Collapsing a non-contiguous coordinate. Metadata may not be fully descriptive for 'longitude'.\n",
      "  warnings.warn(msg.format(self.name()))\n",
      "C:\\Users\\rhonda\\anaconda3\\envs\\py3k\\lib\\site-packages\\iris\\coords.py:1982: UserWarning: Collapsing a non-contiguous coordinate. Metadata may not be fully descriptive for 'latitude'.\n",
      "  warnings.warn(msg.format(self.name()))\n",
      "C:\\Users\\rhonda\\anaconda3\\envs\\py3k\\lib\\site-packages\\iris\\coords.py:1982: UserWarning: Collapsing a non-contiguous coordinate. Metadata may not be fully descriptive for 'longitude'.\n",
      "  warnings.warn(msg.format(self.name()))\n",
      "C:\\Users\\rhonda\\anaconda3\\envs\\py3k\\lib\\site-packages\\iris\\coords.py:1982: UserWarning: Collapsing a non-contiguous coordinate. Metadata may not be fully descriptive for 'latitude'.\n",
      "  warnings.warn(msg.format(self.name()))\n",
      "C:\\Users\\rhonda\\anaconda3\\envs\\py3k\\lib\\site-packages\\iris\\coords.py:1982: UserWarning: Collapsing a non-contiguous coordinate. Metadata may not be fully descriptive for 'longitude'.\n",
      "  warnings.warn(msg.format(self.name()))\n",
      "C:\\Users\\rhonda\\anaconda3\\envs\\py3k\\lib\\site-packages\\iris\\coords.py:1982: UserWarning: Collapsing a non-contiguous coordinate. Metadata may not be fully descriptive for 'latitude'.\n",
      "  warnings.warn(msg.format(self.name()))\n",
      "C:\\Users\\rhonda\\anaconda3\\envs\\py3k\\lib\\site-packages\\iris\\coords.py:1982: UserWarning: Collapsing a non-contiguous coordinate. Metadata may not be fully descriptive for 'longitude'.\n",
      "  warnings.warn(msg.format(self.name()))\n",
      "C:\\Users\\rhonda\\anaconda3\\envs\\py3k\\lib\\site-packages\\iris\\coords.py:1982: UserWarning: Collapsing a non-contiguous coordinate. Metadata may not be fully descriptive for 'latitude'.\n",
      "  warnings.warn(msg.format(self.name()))\n",
      "C:\\Users\\rhonda\\anaconda3\\envs\\py3k\\lib\\site-packages\\iris\\coords.py:1982: UserWarning: Collapsing a non-contiguous coordinate. Metadata may not be fully descriptive for 'longitude'.\n",
      "  warnings.warn(msg.format(self.name()))\n",
      "C:\\Users\\rhonda\\anaconda3\\envs\\py3k\\lib\\site-packages\\iris\\coords.py:1982: UserWarning: Collapsing a non-contiguous coordinate. Metadata may not be fully descriptive for 'latitude'.\n",
      "  warnings.warn(msg.format(self.name()))\n",
      "C:\\Users\\rhonda\\anaconda3\\envs\\py3k\\lib\\site-packages\\iris\\coords.py:1982: UserWarning: Collapsing a non-contiguous coordinate. Metadata may not be fully descriptive for 'longitude'.\n",
      "  warnings.warn(msg.format(self.name()))\n",
      "C:\\Users\\rhonda\\anaconda3\\envs\\py3k\\lib\\site-packages\\iris\\coords.py:1982: UserWarning: Collapsing a non-contiguous coordinate. Metadata may not be fully descriptive for 'latitude'.\n",
      "  warnings.warn(msg.format(self.name()))\n",
      "C:\\Users\\rhonda\\anaconda3\\envs\\py3k\\lib\\site-packages\\iris\\coords.py:1982: UserWarning: Collapsing a non-contiguous coordinate. Metadata may not be fully descriptive for 'longitude'.\n",
      "  warnings.warn(msg.format(self.name()))\n",
      "C:\\Users\\rhonda\\anaconda3\\envs\\py3k\\lib\\site-packages\\iris\\coords.py:1982: UserWarning: Collapsing a non-contiguous coordinate. Metadata may not be fully descriptive for 'latitude'.\n",
      "  warnings.warn(msg.format(self.name()))\n",
      "C:\\Users\\rhonda\\anaconda3\\envs\\py3k\\lib\\site-packages\\iris\\coords.py:1982: UserWarning: Collapsing a non-contiguous coordinate. Metadata may not be fully descriptive for 'longitude'.\n",
      "  warnings.warn(msg.format(self.name()))\n",
      "C:\\Users\\rhonda\\anaconda3\\envs\\py3k\\lib\\site-packages\\iris\\coords.py:1982: UserWarning: Collapsing a non-contiguous coordinate. Metadata may not be fully descriptive for 'latitude'.\n",
      "  warnings.warn(msg.format(self.name()))\n",
      "C:\\Users\\rhonda\\anaconda3\\envs\\py3k\\lib\\site-packages\\iris\\coords.py:1982: UserWarning: Collapsing a non-contiguous coordinate. Metadata may not be fully descriptive for 'longitude'.\n",
      "  warnings.warn(msg.format(self.name()))\n",
      "C:\\Users\\rhonda\\anaconda3\\envs\\py3k\\lib\\site-packages\\iris\\coords.py:1982: UserWarning: Collapsing a non-contiguous coordinate. Metadata may not be fully descriptive for 'latitude'.\n",
      "  warnings.warn(msg.format(self.name()))\n",
      "C:\\Users\\rhonda\\anaconda3\\envs\\py3k\\lib\\site-packages\\iris\\coords.py:1982: UserWarning: Collapsing a non-contiguous coordinate. Metadata may not be fully descriptive for 'longitude'.\n",
      "  warnings.warn(msg.format(self.name()))\n"
     ]
    },
    {
     "data": {
      "text/plain": [
       "<matplotlib.legend.Legend at 0x1cec6a6e340>"
      ]
     },
     "execution_count": 5,
     "metadata": {},
     "output_type": "execute_result"
    },
    {
     "data": {
      "image/png": "[encoded data removed]",
      "text/plain": [
       "<Figure size 432x288 with 1 Axes>"
      ]
     },
     "metadata": {
      "needs_background": "light"
     },
     "output_type": "display_data"
    }
   ],
   "source": [
    "path = r\"\"\n",
    "\n",
    "import iris\n",
    "\n",
    "import Min_clm_2 as Mean_Time_Series ## ## This is a subfunction to calculate the 21-year weighted running mean of the yearly minimum temperature over the given area\n",
    "\n",
    "import matplotlib.pyplot as plt\n",
    "\n",
    "variable = \"TREFMNAV\" ## for TS (T_mean) --> no landmask!!!!!\n",
    "\n",
    "landmask = iris.load(path + \"TSA_01_sel_var_CCT.all.nc\")[0][:,74:96,:]\n",
    "\n",
    "CCT_01 = iris.load(path + variable + \"_01_sel_var_CCT.all.nc\")[0][12:,74:96,:]\n",
    "CCT_02 = iris.load(path + variable + \"_02_sel_var_CCT.all.nc\")[0][12:,74:96,:]\n",
    "CCT_03 = iris.load(path + variable + \"_03_sel_var_CCT.all.nc\")[0][:,74:96,:]\n",
    "\n",
    "CCT_mean = Mean_Time_Series.rfg_mean_clm(CCT_01, CCT_02, CCT_03, \"\")\n",
    "\n",
    "MSB_01 = iris.load(path + variable + \"_01_sel_var_MSB.all.nc\")[0][:,74:96,:]\n",
    "MSB_02 = iris.load(path + variable + \"_02_sel_var_MSB.all.nc\")[0][:,74:96,:]\n",
    "MSB_03 = iris.load(path + variable + \"_03_sel_var_MSB.all.nc\")[0][:,74:96,:]\n",
    "\n",
    "\n",
    "MSB_mean = Mean_Time_Series.rfg_mean_clm(MSB_01, MSB_02, MSB_03, \"\")\n",
    "\n",
    "SAI_01 = iris.load(path + variable + \"_01_sel_var_SAI.all.nc\")[0][:,74:96,:]\n",
    "SAI_02 = iris.load(path + variable + \"_02_sel_var_SAI.all.nc\")[0][:,74:96,:]\n",
    "SAI_03 = iris.load(path + variable + \"_03_sel_var_SAI.all.nc\")[0][:,74:96,:]\n",
    "\n",
    "\n",
    "SAI_mean = Mean_Time_Series.rfg_mean_clm(SAI_01, SAI_02, SAI_03, \"\")\n",
    "\n",
    "RCP = iris.load(path + variable + \"_sel_var_RCP85.all.nc\")[0][:,74:96,:]\n",
    "\n",
    "RCP_mean = Mean_Time_Series.rcp_mean_clm(RCP, \"\")\n",
    "\n",
    "RCP45 = iris.load(path + \"RCP45_ens01_tmin_tmax.nc\")[1][:,74:96,:]\n",
    "RCP45.data.mask = landmask.data.mask\n",
    "\n",
    "RCP45_mean = Mean_Time_Series.rcp_mean_clm(RCP45, \"\")\n",
    "\n",
    "RFG_years = list(range(2030, 2091))\n",
    "RCP_years = list(range(2016, 2091))\n",
    "CCT_years = list(range(2031, 2091))\n",
    "\n",
    "plt.plot(RCP_years, RCP_mean, color = \"#C0C0C0\", label = \"RCP8.5\", linewidth=5.0) #  - RCP_mean[0]\n",
    "plt.plot(RFG_years, RCP45_mean, color = \"#C0C0C0\", linestyle =\"dotted\", label = \"RCP4.5\", linewidth=5.0) #  - RCP_mean[0]\n",
    "plt.plot(CCT_years, CCT_mean, color = \"green\", label = \"CCT\", linewidth=3.0)\n",
    "plt.plot(RFG_years, MSB_mean, color = \"red\", label = \"MCB\", linewidth=3.0)\n",
    "plt.plot(RFG_years, SAI_mean, color = \"blue\", label = \"SAI\", linewidth=3.0)\n",
    "#plt.plot([2016, 2091],[287.1533607606747 + 1.5, 287.1533607606747 + 1.5])\n",
    "plt.xlabel(\"Year\")\n",
    "plt.ylabel(\"Minimum Temperature [K]\")\n",
    "plt.title(\">50°N Minimum Temperature\")\n",
    "plt.title(\"e)\",  loc = \"left\")\n",
    "\n",
    "# plt.xlim(-0.1,2.2)\n",
    "plt.ylim(249,259)\n",
    "plt.legend(loc = 2)\n",
    "#plt.show()"
   ]
  }
 ],
 "metadata": {
  "kernelspec": {
   "display_name": "Python 3 (ipykernel)",
   "language": "python",
   "name": "python3"
  },
  "language_info": {
   "codemirror_mode": {
    "name": "ipython",
    "version": 3
   },
   "file_extension": ".py",
   "mimetype": "text/x-python",
   "name": "python",
   "nbconvert_exporter": "python",
   "pygments_lexer": "ipython3",
   "version": "3.9.7"
  }
 },
 "nbformat": 4,
 "nbformat_minor": 5
}
