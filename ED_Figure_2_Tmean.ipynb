{
 "cells": [
  {
   "cell_type": "markdown",
   "id": "8d923814",
   "metadata": {},
   "source": [
    "The code is currently for the region >65°N, to change it to >50°N, 82:96 needs to be adjusted to 74:96."
   ]
  },
  {
   "cell_type": "code",
   "execution_count": 4,
   "id": "568a6ccf",
   "metadata": {
    "scrolled": false
   },
   "outputs": [
    {
     "name": "stderr",
     "output_type": "stream",
     "text": [
      "C:\\Users\\rhonda\\anaconda3\\envs\\py3k\\lib\\site-packages\\iris\\coords.py:1982: UserWarning: Collapsing a non-contiguous coordinate. Metadata may not be fully descriptive for 'latitude'.\n",
      "  warnings.warn(msg.format(self.name()))\n",
      "C:\\Users\\rhonda\\anaconda3\\envs\\py3k\\lib\\site-packages\\iris\\coords.py:1982: UserWarning: Collapsing a non-contiguous coordinate. Metadata may not be fully descriptive for 'longitude'.\n",
      "  warnings.warn(msg.format(self.name()))\n",
      "C:\\Users\\rhonda\\anaconda3\\envs\\py3k\\lib\\site-packages\\iris\\coords.py:1982: UserWarning: Collapsing a non-contiguous coordinate. Metadata may not be fully descriptive for 'latitude'.\n",
      "  warnings.warn(msg.format(self.name()))\n",
      "C:\\Users\\rhonda\\anaconda3\\envs\\py3k\\lib\\site-packages\\iris\\coords.py:1982: UserWarning: Collapsing a non-contiguous coordinate. Metadata may not be fully descriptive for 'longitude'.\n",
      "  warnings.warn(msg.format(self.name()))\n",
      "C:\\Users\\rhonda\\anaconda3\\envs\\py3k\\lib\\site-packages\\iris\\coords.py:1982: UserWarning: Collapsing a non-contiguous coordinate. Metadata may not be fully descriptive for 'latitude'.\n",
      "  warnings.warn(msg.format(self.name()))\n",
      "C:\\Users\\rhonda\\anaconda3\\envs\\py3k\\lib\\site-packages\\iris\\coords.py:1982: UserWarning: Collapsing a non-contiguous coordinate. Metadata may not be fully descriptive for 'longitude'.\n",
      "  warnings.warn(msg.format(self.name()))\n",
      "C:\\Users\\rhonda\\anaconda3\\envs\\py3k\\lib\\site-packages\\iris\\coords.py:1982: UserWarning: Collapsing a non-contiguous coordinate. Metadata may not be fully descriptive for 'latitude'.\n",
      "  warnings.warn(msg.format(self.name()))\n",
      "C:\\Users\\rhonda\\anaconda3\\envs\\py3k\\lib\\site-packages\\iris\\coords.py:1982: UserWarning: Collapsing a non-contiguous coordinate. Metadata may not be fully descriptive for 'longitude'.\n",
      "  warnings.warn(msg.format(self.name()))\n",
      "C:\\Users\\rhonda\\anaconda3\\envs\\py3k\\lib\\site-packages\\iris\\fileformats\\cf.py:859: UserWarning: Missing CF-netCDF measure variable 'areacella', referenced by netCDF variable 'tas'\n",
      "  warnings.warn(\n"
     ]
    },
    {
     "data": {
      "text/plain": [
       "<matplotlib.legend.Legend at 0x1c595c421f0>"
      ]
     },
     "execution_count": 4,
     "metadata": {},
     "output_type": "execute_result"
    },
    {
     "data": {
      "image/png": "[encoded data removed]",
      "text/plain": [
       "<Figure size 432x288 with 1 Axes>"
      ]
     },
     "metadata": {
      "needs_background": "light"
     },
     "output_type": "display_data"
    }
   ],
   "source": [
    "path = r\"\"\n",
    "\n",
    "import iris\n",
    "\n",
    "import Mean_clm_2 as Mean_Time_Series ## This is a subfunction to calculate the 21-year weighted running mean of the yearly mean temperature over the given area\n",
    "\n",
    "import matplotlib.pyplot as plt\n",
    "\n",
    "variable = \"TSA\"\n",
    "\n",
    "landmask = iris.load(path + \"TSA_01_sel_var_CCT.all.nc\")[0][:,82:96,:]\n",
    "\n",
    "CCT_01 = iris.load(path + variable + \"_01_sel_var_CCT.all.nc\")[0][12:,82:96,:]\n",
    "CCT_02 = iris.load(path + variable + \"_02_sel_var_CCT.all.nc\")[0][12:,82:96,:]\n",
    "CCT_03 = iris.load(path + variable + \"_03_sel_var_CCT.all.nc\")[0][:,82:96,:]\n",
    "CCT_01.data.mask = landmask.data.mask\n",
    "CCT_02.data.mask = landmask.data.mask\n",
    "CCT_03.data.mask = landmask.data.mask\n",
    "\n",
    "CCT_mean = Mean_Time_Series.rfg_mean_clm(CCT_01, CCT_02, CCT_03, \"\")\n",
    "\n",
    "MSB_01 = iris.load(path + variable + \"_01_sel_var_MSB.all.nc\")[0][:,82:96,:]\n",
    "MSB_02 = iris.load(path + variable + \"_02_sel_var_MSB.all.nc\")[0][:,82:96,:]\n",
    "MSB_03 = iris.load(path + variable + \"_03_sel_var_MSB.all.nc\")[0][:,82:96,:]\n",
    "MSB_01.data.mask = landmask.data.mask\n",
    "MSB_02.data.mask = landmask.data.mask\n",
    "MSB_03.data.mask = landmask.data.mask\n",
    "\n",
    "MSB_mean = Mean_Time_Series.rfg_mean_clm(MSB_01, MSB_02, MSB_03, \"\")\n",
    "\n",
    "SAI_01 = iris.load(path + variable + \"_01_sel_var_SAI.all.nc\")[0][:,82:96,:]\n",
    "SAI_02 = iris.load(path + variable + \"_02_sel_var_SAI.all.nc\")[0][:,82:96,:]\n",
    "SAI_03 = iris.load(path + variable + \"_03_sel_var_SAI.all.nc\")[0][:,82:96,:]\n",
    "SAI_01.data.mask = landmask.data.mask\n",
    "SAI_02.data.mask = landmask.data.mask\n",
    "SAI_03.data.mask = landmask.data.mask\n",
    "\n",
    "SAI_mean = Mean_Time_Series.rfg_mean_clm(SAI_01, SAI_02, SAI_03, \"\")\n",
    "\n",
    "RCP = iris.load(path + variable + \"_sel_var_RCP85.all.nc\")[0][:,82:96,:]\n",
    "RCP.data.mask = landmask.data.mask\n",
    "\n",
    "RCP_mean = Mean_Time_Series.rcp_mean_clm(RCP, \"\")\n",
    "\n",
    "RCP45 = iris.load(path + \"tas_Amon_NorESM1-ME_rcp45_r1i1p1_202001-210012.nc\")[0][:,82:96,:]\n",
    "RCP45.data.mask = landmask.data.mask\n",
    "\n",
    "RCP45_mean = Mean_Time_Series.rcp_mean_clm(RCP45, \"\")\n",
    "\n",
    "RFG_years = list(range(2030, 2091))\n",
    "RCP_years = list(range(2016, 2091))\n",
    "CCT_years = list(range(2031, 2091))\n",
    "\n",
    "plt.plot(RCP_years, RCP_mean, color = \"#C0C0C0\", label = \"RCP8.5\", linewidth=5.0) #  - RCP_mean[0]\n",
    "plt.plot(RFG_years, RCP45_mean, color = \"#C0C0C0\", linestyle =\"dotted\", label = \"RCP4.5\", linewidth=5.0) #  - RCP_mean[0]\n",
    "plt.plot(CCT_years, CCT_mean, color = \"green\", label = \"CCT\", linewidth=3.0)\n",
    "plt.plot(RFG_years, MSB_mean, color = \"red\", label = \"MCB\", linewidth=3.0)\n",
    "plt.plot(RFG_years, SAI_mean, color = \"blue\", label = \"SAI\", linewidth=3.0)\n",
    "#plt.plot([2016, 2091],[287.1533607606747 + 1.5, 287.1533607606747 + 1.5])\n",
    "plt.xlabel(\"Year\")\n",
    "plt.ylabel(\"Mean Temperature [K]\")\n",
    "plt.title(\">65°N Mean Temperature\")\n",
    "plt.title(\"b)\",  loc = \"left\")\n",
    "# plt.xlim(-0.1,2.2)\n",
    "plt.ylim(260, 270)\n",
    "plt.legend(loc = 2)\n",
    "#plt.show()"
   ]
  }
 ],
 "metadata": {
  "kernelspec": {
   "display_name": "Python 3 (ipykernel)",
   "language": "python",
   "name": "python3"
  },
  "language_info": {
   "codemirror_mode": {
    "name": "ipython",
    "version": 3
   },
   "file_extension": ".py",
   "mimetype": "text/x-python",
   "name": "python",
   "nbconvert_exporter": "python",
   "pygments_lexer": "ipython3",
   "version": "3.9.7"
  }
 },
 "nbformat": 4,
 "nbformat_minor": 5
}
