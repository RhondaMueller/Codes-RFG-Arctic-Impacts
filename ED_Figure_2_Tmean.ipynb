{
 "cells": [
  {
   "cell_type": "markdown",
   "id": "6c19094f",
   "metadata": {},
   "source": [
    "Averages the 2-m air temperature over land (either >50° or 65° N) for each year (with cosine weighted mean) and then creates a 21-year running mean. The three ensembles get averaged for CCT, MSB and SAI. The result is a figure that shows the development of the Arctic (or >50°N) land mean temeperature over time."
   ]
  },
  {
   "cell_type": "markdown",
   "id": "8d923814",
   "metadata": {},
   "source": [
    "The code is currently for the region >65°N, to change it to >50°N, 82:96 needs to be adjusted to 74:96."
   ]
  },
  {
   "cell_type": "code",
   "execution_count": 1,
   "id": "568a6ccf",
   "metadata": {
    "scrolled": true
   },
   "outputs": [],
   "source": [
    "path = r\"E:\\Datasets_Geoengineering\\JS_files_new_sel_var/\"\n",
    "path2 = r\"E:\\Datasets_Geoengineering/JS_files_RCP_85/\"\n",
    "path3 = r\"E:\\Datasets_Geoengineering/RCP45_variables/\"\n",
    "import iris\n",
    "#import Mean_Time_Series ## Without running mean\n",
    "\n",
    "import Mean_clm_2_single as Mean_Time_Series ## With running mean\n",
    "\n",
    "import matplotlib.pyplot as plt\n",
    "\n",
    "import warnings\n",
    "warnings.filterwarnings(\"ignore\") ## To ignore UserWarning about collapsing a non-contagious variable\n",
    "\n",
    "variable = \"TSA\" ## for TS (T_mean) --> no landmask!!!!!\n",
    "\n",
    "landmask = iris.load(path + \"TSA_01_sel_var_CCT.all.nc\")[0][:,82:96,:]\n",
    "\n",
    "CCT_01 = iris.load(path + variable + \"_01_sel_var_CCT.all.nc\")[0][12:,82:96,:]\n",
    "CCT_02 = iris.load(path + variable + \"_02_sel_var_CCT.all.nc\")[0][12:,82:96,:]\n",
    "CCT_03 = iris.load(path + variable + \"_03_sel_var_CCT.all.nc\")[0][:,82:96,:]\n",
    "CCT_01.data.mask = landmask.data.mask\n",
    "CCT_02.data.mask = landmask.data.mask\n",
    "CCT_03.data.mask = landmask.data.mask\n",
    "\n",
    "CCT_mean, CCT1_mean, CCT2_mean, CCT3_mean = Mean_Time_Series.rfg_mean_clm(CCT_01, CCT_02, CCT_03, \"\")\n",
    "\n",
    "MSB_01 = iris.load(path + variable + \"_01_sel_var_MSB.all.nc\")[0][:,82:96,:]\n",
    "MSB_02 = iris.load(path + variable + \"_02_sel_var_MSB.all.nc\")[0][:,82:96,:]\n",
    "MSB_03 = iris.load(path + variable + \"_03_sel_var_MSB.all.nc\")[0][:,82:96,:]\n",
    "MSB_01.data.mask = landmask.data.mask\n",
    "MSB_02.data.mask = landmask.data.mask\n",
    "MSB_03.data.mask = landmask.data.mask\n",
    "\n",
    "MSB_mean, MSB1_mean, MSB2_mean, MSB3_mean = Mean_Time_Series.rfg_mean_clm(MSB_01, MSB_02, MSB_03, \"\")\n",
    "\n",
    "SAI_01 = iris.load(path + variable + \"_01_sel_var_SAI.all.nc\")[0][:,82:96,:]\n",
    "SAI_02 = iris.load(path + variable + \"_02_sel_var_SAI.all.nc\")[0][:,82:96,:]\n",
    "SAI_03 = iris.load(path + variable + \"_03_sel_var_SAI.all.nc\")[0][:,82:96,:]\n",
    "SAI_01.data.mask = landmask.data.mask\n",
    "SAI_02.data.mask = landmask.data.mask\n",
    "SAI_03.data.mask = landmask.data.mask\n",
    "\n",
    "SAI_mean, SAI1_mean, SAI2_mean, SAI3_mean = Mean_Time_Series.rfg_mean_clm(SAI_01, SAI_02, SAI_03, \"\")\n",
    "\n",
    "RCP = iris.load(path2 + variable + \"_sel_var_RCP85.all.nc\")[0][:,82:96,:]\n",
    "RCP.data.mask = landmask.data.mask\n",
    "\n",
    "RCP_mean = Mean_Time_Series.rcp_mean_clm(RCP, \"\")\n",
    "\n",
    "RCP45 = iris.load(path3 + \"TSA_RCP45.all.nc\")[0][:,82:96,:]\n",
    "RCP45.data.mask = landmask.data.mask\n",
    "\n",
    "RCP45_mean = Mean_Time_Series.rcp_mean_clm(RCP45, \"\")\n",
    "\n",
    "RFG_years = list(range(2030+10, 2091+10))\n",
    "RCP_years = list(range(2016+10, 2091+10))\n",
    "CCT_years = list(range(2031+10, 2091+10))\n",
    "\n"
   ]
  },
  {
   "cell_type": "markdown",
   "id": "b94960d4",
   "metadata": {},
   "source": [
    "To fill the ensemble spread, the min and max of the ensambles per index for each RFG is calculated."
   ]
  },
  {
   "cell_type": "code",
   "execution_count": 2,
   "id": "c351fc9c",
   "metadata": {},
   "outputs": [],
   "source": [
    "CCT_Tmean_max = []\n",
    "CCT_Tmean_min = []\n",
    "MSB_Tmean_max = []\n",
    "MSB_Tmean_min = []\n",
    "SAI_Tmean_max = []\n",
    "SAI_Tmean_min = []\n",
    "\n",
    "for i in range(0, len(CCT1_mean)):\n",
    "    CCT_Tmean_max.append(max(CCT1_mean[i], CCT2_mean[i], CCT3_mean[i] ))\n",
    "    CCT_Tmean_min.append(min(CCT1_mean[i], CCT2_mean[i], CCT3_mean[i]))    \n",
    "for i in range(0, len(MSB2_mean)):\n",
    "    MSB_Tmean_max.append(max(MSB1_mean[i], MSB2_mean[i], MSB3_mean[i]))\n",
    "    MSB_Tmean_min.append(min(MSB1_mean[i], MSB2_mean[i], MSB3_mean[i]))\n",
    "    SAI_Tmean_max.append(max(SAI1_mean[i], SAI2_mean[i], SAI3_mean[i]))\n",
    "    SAI_Tmean_min.append(min(SAI1_mean[i], SAI2_mean[i], SAI3_mean[i]))"
   ]
  },
  {
   "cell_type": "markdown",
   "id": "f97fc61b",
   "metadata": {},
   "source": [
    "Plotting of the data"
   ]
  },
  {
   "cell_type": "code",
   "execution_count": 3,
   "id": "e540e93a",
   "metadata": {},
   "outputs": [
    {
     "data": {
      "image/png": "[encoded data removed]",
      "text/plain": [
       "<Figure size 432x288 with 1 Axes>"
      ]
     },
     "metadata": {
      "needs_background": "light"
     },
     "output_type": "display_data"
    }
   ],
   "source": [
    "\n",
    "plt.fill_between(CCT_years, CCT_Tmean_max, CCT_Tmean_min, color = \"greenyellow\", alpha = 0.3, lw=0)\n",
    "plt.fill_between(RFG_years, MSB_Tmean_max, MSB_Tmean_min, color = \"red\", alpha = 0.3, lw=0)\n",
    "plt.fill_between(RFG_years, SAI_Tmean_max, SAI_Tmean_min, color = \"blue\", alpha = 0.3, lw=0)\n",
    "plt.plot(RCP_years, RCP_mean, color = \"#C0C0C0\", label = \"RCP8.5\", linewidth=3.0) #  - RCP_mean[0]\n",
    "plt.plot(RCP_years, RCP45_mean, color = \"black\", label = \"RCP4.5\", linewidth=3.0) #  - RCP_mean[0]\n",
    "plt.plot(CCT_years, CCT_mean, color = \"greenyellow\", label = \"CCT\", linewidth=3.0)\n",
    "plt.plot(RFG_years, MSB_mean, color = \"red\", label = \"MCB\", linewidth=3.0)\n",
    "plt.plot(RFG_years, SAI_mean, color = \"blue\", label = \"SAI\", linewidth=3.0)\n",
    "#plt.plot([2016, 2091],[287.1533607606747 + 1.5, 287.1533607606747 + 1.5])\n",
    "plt.xlabel(\"Year\")\n",
    "plt.ylabel(\"Mean Temperature [K]\")\n",
    "plt.title(\">65°N Mean Temperature\")\n",
    "plt.title(\"b)\",  loc = \"left\")\n",
    "# plt.xlim(-0.1,2.2)\n",
    "plt.ylim(260, 270)\n",
    "plt.legend(loc = 2)\n",
    "#plt.show()\n",
    "\n",
    "plt.savefig(r\"C:\\Users\\rhonda\\OneDrive\\Dokumente\\Uni-DESKTOP-8400FCB\\Master Thesis\\Figures for Paper\\Tmean_2m_65.png\",bbox_inches='tight', facecolor='w')\n"
   ]
  },
  {
   "cell_type": "markdown",
   "id": "232ece29",
   "metadata": {},
   "source": [
    "Print the difference of each RFG to RCP4.5 at the end of the century (last index)."
   ]
  },
  {
   "cell_type": "code",
   "execution_count": 4,
   "id": "f81fdc4a",
   "metadata": {
    "scrolled": true
   },
   "outputs": [
    {
     "name": "stdout",
     "output_type": "stream",
     "text": [
      "End of century difference CCT: 1.0066205382976818\n",
      "End of century difference MCB: 0.9380231988492937\n",
      "End of century difference SAI: 0.8780755744408566\n",
      "0.0\n"
     ]
    }
   ],
   "source": [
    "print(\"End of century difference CCT:\",CCT_mean[-1] - RCP45_mean[-1])\n",
    "print(\"End of century difference MCB:\",MSB_mean[-1] - RCP45_mean[-1])\n",
    "print(\"End of century difference SAI:\",SAI_mean[-1] - RCP45_mean[-1])\n",
    "print(RCP45_mean[-1] - RCP45_mean[-1])"
   ]
  },
  {
   "cell_type": "markdown",
   "id": "1beb35cd",
   "metadata": {},
   "source": [
    "Print the difference of each RFG at the end of the simulation to RCP8.5 at the beginning of the simulation."
   ]
  },
  {
   "cell_type": "code",
   "execution_count": 5,
   "id": "fec30933",
   "metadata": {},
   "outputs": [
    {
     "name": "stdout",
     "output_type": "stream",
     "text": [
      "End of century difference CCT: 4.101915793443993\n",
      "End of century difference MCB: 4.033318453995605\n",
      "End of century difference SAI: 3.973370829587168\n",
      "End of century difference SAI: 3.0952952551463113\n"
     ]
    }
   ],
   "source": [
    "print(\"End of century difference CCT:\",CCT_mean[-1] - RCP_mean[0])\n",
    "print(\"End of century difference MCB:\",MSB_mean[-1] - RCP_mean[0])\n",
    "print(\"End of century difference SAI:\",SAI_mean[-1] - RCP_mean[0])\n",
    "print(\"End of century difference SAI:\",RCP45_mean[-1] - RCP_mean[0])"
   ]
  },
  {
   "cell_type": "markdown",
   "id": "e793d82d",
   "metadata": {},
   "source": [
    "Store data in csv file."
   ]
  },
  {
   "cell_type": "code",
   "execution_count": 6,
   "id": "34399745",
   "metadata": {},
   "outputs": [],
   "source": [
    "import pandas as pd\n",
    "d = dict(RFG_years = RFG_years, RCP_years = RCP_years, CCT_years = CCT_years, RCP_mean = RCP_mean, RCP45_mean = RCP45_mean, CCT_mean = CCT_mean, CCT_Tmean_max = CCT_Tmean_max, CCT_Tmean_min = CCT_Tmean_min, MSB_mean = MSB_mean, MSB_Tmean_max = MSB_Tmean_max, MSB_Tmean_min = MSB_Tmean_min, SAI_mean = SAI_mean, SAI_Tmean_max = SAI_Tmean_max, SAI_Tmean_min = SAI_Tmean_min)\n",
    "df = pd.DataFrame(dict([ (k,pd.Series(v)) for k,v in d.items() ]))\n",
    "# df.to_excel(r'C:\\Users\\rhonda\\OneDrive\\Dokumente\\Uni-DESKTOP-8400FCB\\Master Thesis\\Excel_Files\\ED_Fig_3.xlsx', index = False)\n",
    "\n",
    "\n",
    "\n",
    "\n",
    "from openpyxl import load_workbook\n",
    "\n",
    "path = r\"C:\\Users\\rhonda\\OneDrive\\Dokumente\\Uni-DESKTOP-8400FCB\\Master Thesis\\Excel_Files\\Source_Data.xlsx\"\n",
    "\n",
    "book = load_workbook(path)\n",
    "writer = pd.ExcelWriter(path, engine = 'openpyxl')\n",
    "writer.book = book\n",
    "\n",
    "\n",
    "df.to_excel(writer, sheet_name = 'ED_Figure_2_b')\n",
    "writer.close()"
   ]
  }
 ],
 "metadata": {
  "kernelspec": {
   "display_name": "Python 3 (ipykernel)",
   "language": "python",
   "name": "python3"
  },
  "language_info": {
   "codemirror_mode": {
    "name": "ipython",
    "version": 3
   },
   "file_extension": ".py",
   "mimetype": "text/x-python",
   "name": "python",
   "nbconvert_exporter": "python",
   "pygments_lexer": "ipython3",
   "version": "3.9.7"
  }
 },
 "nbformat": 4,
 "nbformat_minor": 5
}
