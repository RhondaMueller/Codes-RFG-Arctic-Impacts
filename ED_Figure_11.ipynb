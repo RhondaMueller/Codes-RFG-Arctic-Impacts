{
 "cells": [
  {
   "cell_type": "code",
   "execution_count": 1,
   "id": "91e938b1",
   "metadata": {},
   "outputs": [],
   "source": [
    "import numpy as np\n",
    "import iris\n",
    "import matplotlib.pyplot as plt\n",
    "import matplotlib.cm as mpl_cm\n",
    "import matplotlib\n",
    "import matplotlib.ticker as ticker \n",
    "from matplotlib import cm\n",
    "from matplotlib.colors import ListedColormap\n",
    "\n",
    "from pyproj import Proj\n",
    "from shapely.geometry import shape"
   ]
  },
  {
   "cell_type": "markdown",
   "id": "908a33bb",
   "metadata": {},
   "source": [
    "Load datasets Tmean and TNn of RCP8.5."
   ]
  },
  {
   "cell_type": "code",
   "execution_count": 2,
   "id": "5ab88b91",
   "metadata": {},
   "outputs": [],
   "source": [
    "path = r\"\"\n",
    "\n",
    "T_mean_RCP= iris.load(path + \"TSA_sel_var_RCP85.all.nc\")[0][:,82:,:]\n",
    "T_mean_RCP_data= iris.load(path + \"TSA_sel_var_RCP85.all.nc\")[0][:,82:,:].data\n",
    "TNn_RCP = iris.load(path + \"TREFMNAV_sel_var_RCP85.all.nc\")[0][:,82:,:]\n",
    "landmask = iris.load(path + \"TSA_sel_var_RCP85.all.nc\")[0][:,82:,:]"
   ]
  },
  {
   "cell_type": "markdown",
   "id": "5c460a99",
   "metadata": {},
   "source": [
    "Define function that checks a list if any of the values is below a certain value (in this case below 0°C)."
   ]
  },
  {
   "cell_type": "code",
   "execution_count": 3,
   "id": "1be0d74d",
   "metadata": {},
   "outputs": [],
   "source": [
    "def CheckForLess(list1, val):\n",
    " \n",
    "    # traverse in the list\n",
    "    for x in list1:\n",
    " \n",
    "        # compare with all the\n",
    "        # values with value\n",
    "        if val <= x:\n",
    "            return False\n",
    "    return True"
   ]
  },
  {
   "cell_type": "markdown",
   "id": "226ece25",
   "metadata": {},
   "source": [
    "Define function that calculates the area of a grid cell."
   ]
  },
  {
   "cell_type": "code",
   "execution_count": 4,
   "id": "d01b4a81",
   "metadata": {},
   "outputs": [],
   "source": [
    "def getArea(coords):\n",
    "    c = {\"type\": \"Polygon\",\n",
    "    \"coordinates\": [[ (coords[3], coords[1]), (coords[3], coords[0]),\n",
    "                      (coords[2], coords[0]), (coords[2], coords[1]) ]]}\n",
    "    lon, lat = zip(*c['coordinates'][0])\n",
    "    random_string = \"+proj=aea +lat_1=\" + str(coords[0]) + \" +lat_2=\" + str(coords[1]) + \" +lon_0=\" + str((coords[2]+coords[3])/2) ##+ \" +lat_0=\" + str((coords[0]+coords[1])/2) \n",
    "    pro = Proj(random_string)\n",
    "    x, y = pro(lon, lat)\n",
    "    poly = {\"type\": \"Polygon\", \"coordinates\": [zip(x, y)]}\n",
    "    return shape(poly).area"
   ]
  },
  {
   "cell_type": "markdown",
   "id": "2e0e47de",
   "metadata": {},
   "source": [
    "For each gridcell and year create a list of Tmean of 24 months. If all values of that list are below 0°C the area gets calculated and added up for each year."
   ]
  },
  {
   "cell_type": "code",
   "execution_count": 5,
   "id": "d9a2e3cb",
   "metadata": {},
   "outputs": [],
   "source": [
    "time = 0\n",
    "area_list = []\n",
    "TNn_list = []\n",
    "\n",
    "\n",
    "while time in range(0,1140-2*12):\n",
    "    area_tot = 0\n",
    "    for lat in range(0,14):\n",
    "        for lon in range(0,144):\n",
    "            T_mean = []\n",
    "            if landmask.data.mask[0,lat,lon] == False:\n",
    "                for i in range(0,24):\n",
    "                    T_mean.append(T_mean_RCP_data[time+i,lat,lon])\n",
    "                    #Tmean of 2 years needs to be continuously below zero\n",
    "                if CheckForLess(T_mean, 273.15) == True:\n",
    "                    coords = []\n",
    "                    coords.append(T_mean_RCP[0,lat:lat+2,lon:lon+2].coord(\"latitude\").points[0])\n",
    "                    coords.append(T_mean_RCP[0,lat:lat+2,lon:lon+2].coord(\"latitude\").points[1])\n",
    "                    coords.append(T_mean_RCP[0,lat:lat+2,lon:lon+2].coord(\"longitude\").points[0])\n",
    "                    coords.append(T_mean_RCP[0,lat:lat+2,lon:lon+2].coord(\"longitude\").points[1])\n",
    "                    area = getArea(coords) / 1000 / 1000 # in km2\n",
    "                    area_tot = area_tot + area\n",
    "                    \n",
    "    area_list.append(area_tot)\n",
    "    time = time + 12\n"
   ]
  },
  {
   "cell_type": "markdown",
   "id": "e00e3fa2",
   "metadata": {},
   "source": [
    "Calculate the minimum temperature for each year."
   ]
  },
  {
   "cell_type": "code",
   "execution_count": 6,
   "id": "159af8fb",
   "metadata": {
    "scrolled": true
   },
   "outputs": [
    {
     "name": "stderr",
     "output_type": "stream",
     "text": [
      "C:\\Users\\rhonda\\anaconda3\\envs\\py3k\\lib\\site-packages\\iris\\coords.py:1982: UserWarning: Collapsing a non-contiguous coordinate. Metadata may not be fully descriptive for 'latitude'.\n",
      "  warnings.warn(msg.format(self.name()))\n",
      "C:\\Users\\rhonda\\anaconda3\\envs\\py3k\\lib\\site-packages\\iris\\coords.py:1982: UserWarning: Collapsing a non-contiguous coordinate. Metadata may not be fully descriptive for 'longitude'.\n",
      "  warnings.warn(msg.format(self.name()))\n"
     ]
    }
   ],
   "source": [
    "TNn_weigh = iris.analysis.cartography.cosine_latitude_weights(TNn_RCP)\n",
    "TNn_list = TNn_RCP.collapsed([\"latitude\",\"longitude\"], iris.analysis.MEAN, weights = TNn_weigh).data \n"
   ]
  },
  {
   "cell_type": "code",
   "execution_count": 7,
   "id": "4d2fd3ff",
   "metadata": {},
   "outputs": [],
   "source": [
    "TNn_list_min = []\n",
    "i = 0\n",
    "while i in range(0,1140):\n",
    "    TNn_list_min.append(min(TNn_list[i:i+12]))\n",
    "    i = i + 12"
   ]
  },
  {
   "cell_type": "markdown",
   "id": "ad3ca7bf",
   "metadata": {},
   "source": [
    "Calculate the linear regression between area of permafrost and minimum temperature of each year."
   ]
  },
  {
   "cell_type": "code",
   "execution_count": 8,
   "id": "5f2e4466",
   "metadata": {
    "scrolled": true
   },
   "outputs": [
    {
     "name": "stdout",
     "output_type": "stream",
     "text": [
      "<statsmodels.regression.linear_model.RegressionResultsWrapper object at 0x000002316104D700>\n"
     ]
    }
   ],
   "source": [
    "import statsmodels.api as sm\n",
    "y = area_list\n",
    "x1 = TNn_list_min[0:93]\n",
    "x = sm.add_constant(TNn_list_min[0:93])\n",
    "model_RFG = sm.OLS(y,x, missing = \"drop\")\n",
    "results_RFG = model_RFG.fit()\n",
    "slope = results_RFG.params[1]\n",
    "inter = results_RFG.params[0]\n",
    "print(results_RFG)\n",
    "\n"
   ]
  },
  {
   "cell_type": "code",
   "execution_count": 9,
   "id": "461a50a6",
   "metadata": {},
   "outputs": [],
   "source": [
    "def plot_ci_manual(t, s_err, n, x, x2, y2, ax=None):\n",
    "    \"\"\"Return an axes of confidence bands using a simple approach.\n",
    "    \n",
    "    Notes\n",
    "    -----\n",
    "    .. math:: \\left| \\: \\hat{\\mu}_{y|x0} - \\mu_{y|x0} \\: \\right| \\; \\leq \\; T_{n-2}^{.975} \\; \\hat{\\sigma} \\; \\sqrt{\\frac{1}{n}+\\frac{(x_0-\\bar{x})^2}{\\sum_{i=1}^n{(x_i-\\bar{x})^2}}}\n",
    "    .. math:: \\hat{\\sigma} = \\sqrt{\\sum_{i=1}^n{\\frac{(y_i-\\hat{y})^2}{n-2}}}\n",
    "    \n",
    "    References\n",
    "    ----------\n",
    "    .. [1] M. Duarte.  \"Curve fitting,\" Jupyter Notebook.\n",
    "       http://nbviewer.ipython.org/github/demotu/BMC/blob/master/notebooks/CurveFitting.ipynb\n",
    "    \n",
    "    \"\"\"\n",
    "    if ax is None:\n",
    "        ax = plt.gca()\n",
    "    \n",
    "    ci = t * s_err * np.sqrt(1/n + (x2 - np.mean(x))**2 / np.sum((x - np.mean(x))**2))\n",
    "    ax.fill_between(x2, y2 + ci, y2 - ci, color=\"#b9cfe7\", edgecolor=\"#b9cfe7\")\n",
    "\n",
    "    return ax\n"
   ]
  },
  {
   "cell_type": "markdown",
   "id": "858027ac",
   "metadata": {},
   "source": [
    "Plot the linear regression of the area of permafrost versus the minimum temperature of each year."
   ]
  },
  {
   "cell_type": "code",
   "execution_count": 10,
   "id": "5ab58e11",
   "metadata": {},
   "outputs": [
    {
     "data": {
      "image/png": "[encoded data removed]",
      "text/plain": [
       "<Figure size 576x432 with 1 Axes>"
      ]
     },
     "metadata": {
      "needs_background": "light"
     },
     "output_type": "display_data"
    }
   ],
   "source": [
    "import scipy as sp\n",
    "import scipy.stats as stats\n",
    "import matplotlib.pyplot as plt\n",
    "\n",
    "def equation(a, cov, b):\n",
    "    \"\"\"Return a 1D polynomial.\"\"\"\n",
    "    return np.polyval([a, cov], b)\n",
    "\n",
    "x = np.array(TNn_list_min[0:93])\n",
    "y = np.array(area_list)\n",
    "p, cov = np.polyfit(x, y, 1)                     # parameters and covariance from of the fit of 1-D polynom.\n",
    "slope, intercept = p, cov\n",
    "y_model = np.polyval([slope, intercept], x)                                  # model using the fit parameters; NOTE: parameters here are coefficients\n",
    "\n",
    "# Statistics\n",
    "x_mean = np.mean(x)\n",
    "y_mean = np.mean(y)\n",
    "n = y.size                                           # number of observations\n",
    "m = p.size                                                 # number of parameters\n",
    "dof = n - m                                                # degrees of freedom\n",
    "t = stats.t.ppf(0.975, n - m)                              # t-statistic; used for CI and PI bands\n",
    "\n",
    "# Estimates of Error in Data/Model\n",
    "resid = y - y_model                                        # residuals; diff. actual data from predicted values\n",
    "chi2 = np.sum((resid / y_model)**2)                        # chi-squared; estimates error in data\n",
    "chi2_red = chi2 / dof                                      # reduced chi-squared; measures goodness of fit\n",
    "s_err = np.sqrt(np.sum(resid**2) / dof)                    # standard deviation of the error\n",
    "\n",
    "# calculating the r2\n",
    "# https://www.statisticshowto.com/probability-and-statistics/coefficient-of-determination-r-squared/\n",
    "# Pearson's correlation coefficient\n",
    "numerator = np.sum((x - x_mean)*(y - y_mean))\n",
    "denominator = ( np.sum((x - x_mean)**2) * np.sum((y - y_mean)**2) )**.5\n",
    "correlation_coef = numerator / denominator\n",
    "r2 = correlation_coef**2\n",
    "\n",
    "# mean squared error\n",
    "MSE = 1/n * np.sum( (y - y_model)**2 )\n",
    "\n",
    "# Plotting --------------------------------------------------------------------\n",
    "fig, ax = plt.subplots(figsize=(8, 6))\n",
    "\n",
    "# Data\n",
    "ax.plot(\n",
    "    x, y, \"o\", color=\"#b9cfe7\", markersize=8, \n",
    "    markeredgewidth=1, markeredgecolor=\"b\", markerfacecolor=\"None\"\n",
    ")\n",
    "\n",
    "# Fit\n",
    "ax.plot(x, y_model, \"-\", color=\"0.1\", linewidth=1.5, alpha=0.5, label=\"Fit\")  \n",
    "\n",
    "x2 = np.linspace(np.min(x), np.max(x), 100)\n",
    "y2 = equation(p, cov, x2)\n",
    "\n",
    "# Confidence Interval (select one)\n",
    "plot_ci_manual(t, s_err, n, x, x2, y2, ax=ax)\n",
    "#plot_ci_bootstrap(x, y, resid, ax=ax)\n",
    "   \n",
    "# Prediction Interval\n",
    "pi = t * s_err * np.sqrt(1 + 1/n + (x2 - np.mean(x))**2 / np.sum((x - np.mean(x))**2))   \n",
    "ax.fill_between(x2, y2 + pi, y2 - pi, color=\"None\", linestyle=\"--\")\n",
    "ax.plot(x2, y2 - pi, \"--\", color=\"0.5\", label=\"95% Prediction Limits\")\n",
    "ax.plot(x2, y2 + pi, \"--\", color=\"0.5\")\n",
    "ax.set_ylabel(\"Area of permafrost [km$^2$]\")\n",
    "ax.set_xlabel(\"Minimum temperature [K]\")\n",
    "\n",
    "\n",
    "# rounding and position must be changed for each case and preference\n",
    "a = str(np.round(intercept))\n",
    "b = str(np.round(slope,2))\n",
    "r2s = str(np.round(r2,2))\n",
    "MSEs = str(np.round(MSE))\n",
    "\n",
    "ax.text(247, 3.5e6, 'y = ' + a + ' + ' + b + ' x')\n",
    "ax.text(247, 3e6, '$r^2$ = ' + r2s + '     MSE = ' + MSEs)\n",
    "\n",
    "#plt.show()\n",
    "\n",
    "handles, labels = ax.get_legend_handles_labels()\n",
    "display = (0, 1)\n",
    "anyArtist = plt.Line2D((0, 1), (0, 0), color=\"#b9cfe7\")    # create custom artists\n",
    "legend = plt.legend(\n",
    "    [handle for i, handle in enumerate(handles) if i in display] + [anyArtist],\n",
    "    [label for i, label in enumerate(labels) if i in display] + [\"95% Confidence Limits\"],\n",
    "    loc=9, bbox_to_anchor=(0, -0.21, 1., 0.102), ncol=3, mode=\"expand\"\n",
    ")  \n",
    "frame = legend.get_frame().set_edgecolor(\"0.5\")\n",
    "\n",
    "# Save Figure\n",
    "plt.tight_layout()\n",
    "#plt.savefig(r\"C:\\Users\\rhonda\\OneDrive\\Dokumente\\Uni-DESKTOP-8400FCB\\Master Thesis\\Figures for Paper\\Permafrost_Area_TNn.jpg\", bbox_extra_artists=(legend,), bbox_inches=\"tight\")\n",
    "\n",
    "plt.show()"
   ]
  }
 ],
 "metadata": {
  "kernelspec": {
   "display_name": "Python 3 (ipykernel)",
   "language": "python",
   "name": "python3"
  },
  "language_info": {
   "codemirror_mode": {
    "name": "ipython",
    "version": 3
   },
   "file_extension": ".py",
   "mimetype": "text/x-python",
   "name": "python",
   "nbconvert_exporter": "python",
   "pygments_lexer": "ipython3",
   "version": "3.9.7"
  }
 },
 "nbformat": 4,
 "nbformat_minor": 5
}
